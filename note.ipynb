{
 "cells": [
  {
   "cell_type": "code",
   "execution_count": 2,
   "metadata": {},
   "outputs": [],
   "source": [
    "import pandas as pd"
   ]
  },
  {
   "cell_type": "code",
   "execution_count": 1,
   "metadata": {},
   "outputs": [],
   "source": [
    "registros = ['1','3','4','5','6','15','16','23','25','26','28','30','33','34','36','43','45','46','47','48','49','50','52','54','55','58','59','60','61','65','67','69','70','71','84','87','90','92','95','98','101','107','114','118','119','123','125','127','130','133','134','135','139','158','165','167','168','170','183','184','187','193','194','195','198','206','207','208','222','223','224','225','233','236','238','239','246','248','249','250','258','260','262','266','271','272','273','277','282','285','288','292','298','305','306','310','311','312','313','315','319','322','325','328','332','333','335','337','341','342','343','347','351','354','355','356','358','359','361','362','365','368','370','371','372','375','376','377','380','381','382','384','386','390','392','393','394','397','398','399','402','403','404','405','407','409','410','415','416','417','418','419','420','421','422','425','426','428','429','430','432','433','434','435','436','442','446','447','448','449','502','507','508','510','512','513','516','520','521','523','525','527','528','535','538','539','541','543','544','545','546','547','551','552','553','555','556','557','558','559','560','563','564','565','567','579','581','582','583','587','588','589','590','591','593','594','596','597','598','599','600','605',]"
   ]
  },
  {
   "cell_type": "code",
   "execution_count": 3,
   "metadata": {},
   "outputs": [],
   "source": [
    "paginas = []\n",
    "\n",
    "for registro in registros:\n",
    "    paginas.append(f\"http://appweb2.antt.gov.br/passageiro/anuarios/anuario2009/51_linhas.asp?cod={registro}\")"
   ]
  },
  {
   "cell_type": "code",
   "execution_count": 4,
   "metadata": {},
   "outputs": [],
   "source": [
    "import urllib.request, urllib.error, urllib.parse"
   ]
  },
  {
   "cell_type": "code",
   "execution_count": 20,
   "metadata": {},
   "outputs": [],
   "source": [
    "for pagina in paginas:\n",
    "    response = urllib.request.urlopen(pagina)\n",
    "    webContent = response.read().decode('cp1252')\n",
    "\n",
    "    f = open(f\"./paginas_salvas/{pagina[77:]}.html\", \"w\")\n",
    "    f.write(webContent)\n",
    "    f.close"
   ]
  }
 ],
 "metadata": {
  "interpreter": {
   "hash": "74e7f4a6a229c4bb6ef382c64855e81986d8c54e3a3609c91333b704a1eeecf5"
  },
  "kernelspec": {
   "display_name": "Python 3.9.12 64-bit (windows store)",
   "language": "python",
   "name": "python3"
  },
  "language_info": {
   "codemirror_mode": {
    "name": "ipython",
    "version": 3
   },
   "file_extension": ".py",
   "mimetype": "text/x-python",
   "name": "python",
   "nbconvert_exporter": "python",
   "pygments_lexer": "ipython3",
   "version": "3.9.12"
  },
  "orig_nbformat": 4
 },
 "nbformat": 4,
 "nbformat_minor": 2
}
